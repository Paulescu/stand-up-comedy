{
 "cells": [
  {
   "cell_type": "code",
   "execution_count": 22,
   "id": "ed516218",
   "metadata": {},
   "outputs": [
    {
     "name": "stdout",
     "output_type": "stream",
     "text": [
      "The autoreload extension is already loaded. To reload it, use:\n",
      "  %reload_ext autoreload\n"
     ]
    }
   ],
   "source": [
    "%load_ext autoreload\n",
    "%autoreload 2\n",
    "%config InlineBackend.figure_format = 'svg'\n",
    "# %matplotlib inline"
   ]
  },
  {
   "cell_type": "markdown",
   "id": "8f62417b",
   "metadata": {},
   "source": [
    "## List of comedians"
   ]
  },
  {
   "cell_type": "markdown",
   "id": "8fc4833b",
   "metadata": {},
   "source": [
    "https://editorial.rottentomatoes.com/guide/the-best-netflix-stand-up-comedy-specials/"
   ]
  },
  {
   "cell_type": "code",
   "execution_count": 23,
   "id": "e751e619",
   "metadata": {},
   "outputs": [
    {
     "name": "stdout",
     "output_type": "stream",
     "text": [
      "{\n",
      "    \"id\": 2114,\n",
      "    \"keyword_distribution\": {\n",
      "        \"Ali Wong stand up\": 61,\n",
      "        \"Amy Schumer stand up\": 76,\n",
      "        \"Anthony Jeselnik stand up\": 46,\n",
      "        \"Bill Burr stand up\": 41,\n",
      "        \"Chelsea Peretti stand up\": 59,\n",
      "        \"Chris Rock stand up\": 24,\n",
      "        \"Dave Chappelle stand up\": 39,\n",
      "        \"Eddie Izzard stand up\": 72,\n",
      "        \"George Carlin stand up\": 49,\n",
      "        \"Hannah Gadsby stand up\": 63,\n",
      "        \"Iliza Shlesinger stand up\": 56,\n",
      "        \"James Acaster stand up\": 70,\n",
      "        \"Jenny Slate stand up\": 64,\n",
      "        \"Jerry Seinfeld stand up\": 56,\n",
      "        \"Jim Jeffries stand up\": 60,\n",
      "        \"Jim Norton stand up\": 60,\n",
      "        \"John Mulaney stand up\": 52,\n",
      "        \"Judd Apatow stand up\": 68,\n",
      "        \"Kevin Hart stand up\": 47,\n",
      "        \"Lenny Bruce stand up\": 42,\n",
      "        \"Leslie Jones stand up\": 37,\n",
      "        \"Louis CK stand up\": 73,\n",
      "        \"Marc Maron stand up\": 61,\n",
      "        \"Maria Bamford stand up\": 62,\n",
      "        \"Mike Birbiglia stand up\": 49,\n",
      "        \"Richard Pryor stand up\": 29,\n",
      "        \"Russell Peters stand up\": 70,\n",
      "        \"Sarah Silverman stand up\": 58,\n",
      "        \"Taylor Tomlinson stand up\": 73,\n",
      "        \"Tiffany Haddish stand up\": 58,\n",
      "        \"Tig Notaro stand up\": 63,\n",
      "        \"Tom Segura stand up\": 60,\n",
      "        \"Tracy Morgan stand up\": 68,\n",
      "        \"Trevor Noah stand up\": 72,\n",
      "        \"Wanda Sykes stand up\": 64,\n",
      "        \"ellen degeneres stand up\": 60,\n",
      "        \"ricky gervais stand up\": 52\n",
      "    }\n",
      "}\n"
     ]
    }
   ],
   "source": [
    "from stand_up_comedy.db import get_stats\n",
    "from stand_up_comedy.util import pprint\n",
    "\n",
    "pprint(get_stats())"
   ]
  },
  {
   "cell_type": "code",
   "execution_count": 25,
   "id": "81feab1d",
   "metadata": {
    "scrolled": true
   },
   "outputs": [],
   "source": [
    "import stand_up_comedy.db as db\n",
    "db.delete_documents_by_keyword(keyword='Leslie Jones')"
   ]
  },
  {
   "cell_type": "code",
   "execution_count": 27,
   "id": "7bbed269",
   "metadata": {
    "scrolled": false
   },
   "outputs": [
    {
     "name": "stdout",
     "output_type": "stream",
     "text": [
      "Abo8tZWgAhY\n",
      "{\n",
      "    \"id\": \"Abo8tZWgAhY\",\n",
      "    \"keyword\": \"Jim Jeffries stand up\",\n",
      "    \"num_applauses\": 5,\n",
      "    \"num_words\": 663,\n",
      "    \"transcript\": \"As fun as Halloween is, sometimes the parties\\nare a shit show. Someone wears\\nan inappropriate costume, everyone drinks too much. the woman I go home with\\nwakes up to see that my muscles\\nwere part of my costume. One year, I left a party\\nwith someone that I thought was a sexy cat. It turned out\\njust to be a regular cat. [ Laughter ] I went down on her.\\nShe said she didn't enjoy it. My tongue was too smooth. [ Laughter ] Although, she did say my dick\\nwas quite pleasurable. Anyway, we're still dating. [ Laughter ] We divorced a year ago.\\nAnd now she has a house. [ Laughter ] Very clearly,\\nI've gone off script a bit. I, uh -- I was meant to end\\nwith the smooth-tongue thing. [ Laughter ] The point is, Halloween can be\\npretty disappointing if not for the candy. Well, bad news, America. Because your candy sucks. Particularly the chocolate. In the U.K., it isn't chocolate unless it contains\\nat least 25% cocoa solids. In the U.S.,\\nthat amount can only be 10%. 10 percent! That's not nearly enough\\nto pass off as chocolate. What if you found out\\nyou were 10% chocolate? That wouldn't give you the right\\nto walk into a chocolate club and start high-fiving everyone\\nand saying things like, \\\"Hello, my fellow chocolates.\\nWhat's up, my nougat?\\\" That wouldn't be okay. They'd be like, \\\"Get the [bleep]\\noutta here, Milky Way! Go!\\\" [ Cheers and applause ] And what Americans think\\nis British chocolate actually isn't. Some companies\\nthat license a U.K. brand tweak the original recipes\\nto sell it in the U.S., and often the American versions\\nare, as the Brits say, no bueno. We describe its flavor\\nas vomitous. Because it contains\\nan emulsifier and stabilizer called butyric acid, which naturally occurs in\\nand gives its peculiar smell to vomit, body odor,\\nand bad feet. Vomit, body odor,\\nand bad feet. No wonder the Brits\\ndon't like our chocolate. It reminds them of the French! Because French people\\nare disgusting and should be ashamed\\nof themselves! So, America,\\nyour chocolate is shit. But, honestly,\\nall your candy is shit. Most of the sugar is in the form\\nof high fructose corn syrup, which is cheaper and sweeter\\nthan regular sugar and contributes to all kinds\\nof health problems. Don't take my word for it. Here's a guy in a lab coat\\nwho's a doctor...maybe. High fructose corn syrup\\nincreases your appetite, and it promotes obesity\\nmore than regular sugar. So, what do we do? Knowing what's in our kids'\\nloot bags, we can't let them eat it,\\ncan we? Yes, we can. Because there's\\nabsolutely no way we can stop it from happening. Do we really expect\\nour 6-year-old to understand\\n\\\"everything in moderation\\\"? No. They're 6.\\nAnd they're stupid. And it's Halloween. And their stomachs will hurt,\\nand you will find Skittles in the crevices of your couch\\nlong beyond Christmas. But it's one night out of\\nthe year, so [bleep] it. Let them enjoy it. If anything, we should at least make sure our kids\\nare eating the good stuff. So here's my idea. I'm gonna start\\nmy own black-market European chocolate\\nimporting company. I'll smuggle the real chocolate\\nback into America the same way\\nthat drug mules do it -- by shoving it up my ass. It's a perfect crime. If a TSA officer\\never suspects me, all they'll see in the X-ray\\nis a perfectly rectangular turd. \\\"Nothing out of the ordinary\\nhere, Officer!\\\" And, yes, of course, I'll\\nhave to unwrap the chocolate before I cram it up there. I'm not a [bleep] idiot. But I'm telling you,\\nafter a quick rinse, you won't even care. Because British chocolate\\nis really that good.\",\n",
      "    \"url\": \"https://www.youtube.com/watch?v=Abo8tZWgAhY\",\n",
      "    \"words_per_applause\": 132.6\n",
      "}\n"
     ]
    },
    {
     "data": {
      "text/html": [
       "<iframe width=\"560\" height=\"315\" src=\"https://www.youtube.com/embed/Abo8tZWgAhY?rel=0&amp;controls=0&amp;showinfo=0\" frameborder=\"0\" allowfullscreen></iframe>"
      ],
      "text/plain": [
       "<IPython.core.display.HTML object>"
      ]
     },
     "execution_count": 27,
     "metadata": {},
     "output_type": "execute_result"
    }
   ],
   "source": [
    "from stand_up_comedy.util import play_video\n",
    "\n",
    "video_id = db.get_random_id(\n",
    "#     keyword='ricky gervais stand up'\n",
    ")\n",
    "video_id = 'Abo8tZWgAhY'\n",
    "print(video_id)\n",
    "# print(db.get_transcript(video_id))\n",
    "pprint(db.load_document(id=video_id))\n",
    "play_video(video_id)"
   ]
  },
  {
   "cell_type": "code",
   "execution_count": null,
   "id": "09f833d4",
   "metadata": {},
   "outputs": [],
   "source": []
  }
 ],
 "metadata": {
  "kernelspec": {
   "display_name": "Python 3",
   "language": "python",
   "name": "python3"
  },
  "language_info": {
   "codemirror_mode": {
    "name": "ipython",
    "version": 3
   },
   "file_extension": ".py",
   "mimetype": "text/x-python",
   "name": "python",
   "nbconvert_exporter": "python",
   "pygments_lexer": "ipython3",
   "version": "3.7.5"
  }
 },
 "nbformat": 4,
 "nbformat_minor": 5
}
